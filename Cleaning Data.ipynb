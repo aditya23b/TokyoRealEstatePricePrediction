{
 "cells": [
  {
   "cell_type": "code",
   "execution_count": 1,
   "id": "978d3e2f",
   "metadata": {},
   "outputs": [],
   "source": [
    "import numpy as np\n",
    "import pandas as pd"
   ]
  },
  {
   "cell_type": "markdown",
   "id": "9487fffe",
   "metadata": {},
   "source": [
    "Original dataset having real estate prices for tokyo is accesible via below URL.\n\n",
    "https://www.kaggle.com/datasets/nishiodens/japan-real-estate-transaction-prices.\n\n",
    "※Above URL contains real estate prices for entire japan.But I will be working on just the tokyo area dataset file."
   ]
  },
  {
   "cell_type": "code",
   "execution_count": 2,
   "id": "f853a9b5",
   "metadata": {},
   "outputs": [],
   "source": [
    "df = pd.read_csv('data.csv')"
   ]
  },
  {
   "cell_type": "code",
   "execution_count": 3,
   "id": "f6142450",
   "metadata": {},
   "outputs": [
    {
     "data": {
      "text/html": [
       "<div>\n",
       "<style scoped>\n",
       "    .dataframe tbody tr th:only-of-type {\n",
       "        vertical-align: middle;\n",
       "    }\n",
       "\n",
       "    .dataframe tbody tr th {\n",
       "        vertical-align: top;\n",
       "    }\n",
       "\n",
       "    .dataframe thead th {\n",
       "        text-align: right;\n",
       "    }\n",
       "</style>\n",
       "<table border=\"1\" class=\"dataframe\">\n",
       "  <thead>\n",
       "    <tr style=\"text-align: right;\">\n",
       "      <th></th>\n",
       "      <th>No</th>\n",
       "      <th>Type</th>\n",
       "      <th>Region</th>\n",
       "      <th>MunicipalityCode</th>\n",
       "      <th>Prefecture</th>\n",
       "      <th>Municipality</th>\n",
       "      <th>DistrictName</th>\n",
       "      <th>NearestStation</th>\n",
       "      <th>TimeToNearestStation</th>\n",
       "      <th>MinTimeToNearestStation</th>\n",
       "      <th>...</th>\n",
       "      <th>Classification</th>\n",
       "      <th>Breadth</th>\n",
       "      <th>CityPlanning</th>\n",
       "      <th>CoverageRatio</th>\n",
       "      <th>FloorAreaRatio</th>\n",
       "      <th>Period</th>\n",
       "      <th>Year</th>\n",
       "      <th>Quarter</th>\n",
       "      <th>Renovation</th>\n",
       "      <th>Remarks</th>\n",
       "    </tr>\n",
       "  </thead>\n",
       "  <tbody>\n",
       "    <tr>\n",
       "      <th>0</th>\n",
       "      <td>1</td>\n",
       "      <td>Pre-owned Condominiums, etc.</td>\n",
       "      <td>NaN</td>\n",
       "      <td>13101</td>\n",
       "      <td>Tokyo</td>\n",
       "      <td>Chiyoda Ward</td>\n",
       "      <td>Iidabashi</td>\n",
       "      <td>Iidabashi</td>\n",
       "      <td>4</td>\n",
       "      <td>4.0</td>\n",
       "      <td>...</td>\n",
       "      <td>NaN</td>\n",
       "      <td>NaN</td>\n",
       "      <td>Commercial Zone</td>\n",
       "      <td>80.0</td>\n",
       "      <td>500.0</td>\n",
       "      <td>3rd quarter 2019</td>\n",
       "      <td>2019</td>\n",
       "      <td>3</td>\n",
       "      <td>Not yet</td>\n",
       "      <td>NaN</td>\n",
       "    </tr>\n",
       "    <tr>\n",
       "      <th>1</th>\n",
       "      <td>2</td>\n",
       "      <td>Pre-owned Condominiums, etc.</td>\n",
       "      <td>NaN</td>\n",
       "      <td>13101</td>\n",
       "      <td>Tokyo</td>\n",
       "      <td>Chiyoda Ward</td>\n",
       "      <td>Iidabashi</td>\n",
       "      <td>Iidabashi</td>\n",
       "      <td>4</td>\n",
       "      <td>4.0</td>\n",
       "      <td>...</td>\n",
       "      <td>NaN</td>\n",
       "      <td>NaN</td>\n",
       "      <td>Commercial Zone</td>\n",
       "      <td>80.0</td>\n",
       "      <td>500.0</td>\n",
       "      <td>3rd quarter 2019</td>\n",
       "      <td>2019</td>\n",
       "      <td>3</td>\n",
       "      <td>Done</td>\n",
       "      <td>NaN</td>\n",
       "    </tr>\n",
       "    <tr>\n",
       "      <th>2</th>\n",
       "      <td>3</td>\n",
       "      <td>Residential Land(Land and Building)</td>\n",
       "      <td>Commercial Area</td>\n",
       "      <td>13101</td>\n",
       "      <td>Tokyo</td>\n",
       "      <td>Chiyoda Ward</td>\n",
       "      <td>Iidabashi</td>\n",
       "      <td>Iidabashi</td>\n",
       "      <td>2</td>\n",
       "      <td>2.0</td>\n",
       "      <td>...</td>\n",
       "      <td>Ward Road</td>\n",
       "      <td>4.0</td>\n",
       "      <td>Commercial Zone</td>\n",
       "      <td>80.0</td>\n",
       "      <td>500.0</td>\n",
       "      <td>2nd quarter 2019</td>\n",
       "      <td>2019</td>\n",
       "      <td>2</td>\n",
       "      <td>NaN</td>\n",
       "      <td>NaN</td>\n",
       "    </tr>\n",
       "    <tr>\n",
       "      <th>3</th>\n",
       "      <td>4</td>\n",
       "      <td>Residential Land(Land and Building)</td>\n",
       "      <td>Commercial Area</td>\n",
       "      <td>13101</td>\n",
       "      <td>Tokyo</td>\n",
       "      <td>Chiyoda Ward</td>\n",
       "      <td>Iidabashi</td>\n",
       "      <td>Iidabashi</td>\n",
       "      <td>1</td>\n",
       "      <td>1.0</td>\n",
       "      <td>...</td>\n",
       "      <td>Tokyo Metropolitan Road</td>\n",
       "      <td>27.0</td>\n",
       "      <td>Commercial Zone</td>\n",
       "      <td>80.0</td>\n",
       "      <td>700.0</td>\n",
       "      <td>2nd quarter 2019</td>\n",
       "      <td>2019</td>\n",
       "      <td>2</td>\n",
       "      <td>NaN</td>\n",
       "      <td>NaN</td>\n",
       "    </tr>\n",
       "    <tr>\n",
       "      <th>4</th>\n",
       "      <td>5</td>\n",
       "      <td>Pre-owned Condominiums, etc.</td>\n",
       "      <td>NaN</td>\n",
       "      <td>13101</td>\n",
       "      <td>Tokyo</td>\n",
       "      <td>Chiyoda Ward</td>\n",
       "      <td>Iidabashi</td>\n",
       "      <td>Iidabashi</td>\n",
       "      <td>4</td>\n",
       "      <td>4.0</td>\n",
       "      <td>...</td>\n",
       "      <td>NaN</td>\n",
       "      <td>NaN</td>\n",
       "      <td>Commercial Zone</td>\n",
       "      <td>80.0</td>\n",
       "      <td>500.0</td>\n",
       "      <td>2nd quarter 2019</td>\n",
       "      <td>2019</td>\n",
       "      <td>2</td>\n",
       "      <td>Done</td>\n",
       "      <td>NaN</td>\n",
       "    </tr>\n",
       "  </tbody>\n",
       "</table>\n",
       "<p>5 rows × 38 columns</p>\n",
       "</div>"
      ],
      "text/plain": [
       "   No                                 Type           Region  MunicipalityCode  \\\n",
       "0   1         Pre-owned Condominiums, etc.              NaN             13101   \n",
       "1   2         Pre-owned Condominiums, etc.              NaN             13101   \n",
       "2   3  Residential Land(Land and Building)  Commercial Area             13101   \n",
       "3   4  Residential Land(Land and Building)  Commercial Area             13101   \n",
       "4   5         Pre-owned Condominiums, etc.              NaN             13101   \n",
       "\n",
       "  Prefecture  Municipality DistrictName NearestStation TimeToNearestStation  \\\n",
       "0      Tokyo  Chiyoda Ward    Iidabashi      Iidabashi                    4   \n",
       "1      Tokyo  Chiyoda Ward    Iidabashi      Iidabashi                    4   \n",
       "2      Tokyo  Chiyoda Ward    Iidabashi      Iidabashi                    2   \n",
       "3      Tokyo  Chiyoda Ward    Iidabashi      Iidabashi                    1   \n",
       "4      Tokyo  Chiyoda Ward    Iidabashi      Iidabashi                    4   \n",
       "\n",
       "   MinTimeToNearestStation  ...           Classification  Breadth  \\\n",
       "0                      4.0  ...                      NaN      NaN   \n",
       "1                      4.0  ...                      NaN      NaN   \n",
       "2                      2.0  ...                Ward Road      4.0   \n",
       "3                      1.0  ...  Tokyo Metropolitan Road     27.0   \n",
       "4                      4.0  ...                      NaN      NaN   \n",
       "\n",
       "      CityPlanning  CoverageRatio  FloorAreaRatio            Period  Year  \\\n",
       "0  Commercial Zone           80.0           500.0  3rd quarter 2019  2019   \n",
       "1  Commercial Zone           80.0           500.0  3rd quarter 2019  2019   \n",
       "2  Commercial Zone           80.0           500.0  2nd quarter 2019  2019   \n",
       "3  Commercial Zone           80.0           700.0  2nd quarter 2019  2019   \n",
       "4  Commercial Zone           80.0           500.0  2nd quarter 2019  2019   \n",
       "\n",
       "  Quarter  Renovation  Remarks  \n",
       "0       3     Not yet      NaN  \n",
       "1       3        Done      NaN  \n",
       "2       2         NaN      NaN  \n",
       "3       2         NaN      NaN  \n",
       "4       2        Done      NaN  \n",
       "\n",
       "[5 rows x 38 columns]"
      ]
     },
     "execution_count": 3,
     "metadata": {},
     "output_type": "execute_result"
    }
   ],
   "source": [
    "df.head()"
   ]
  },
  {
   "cell_type": "markdown",
   "id": "2a2c7cf6",
   "metadata": {},
   "source": [
    "Selecting only the below coloumns \n\n",
    "1   Type                 \n",
    "2   MunicipalityCode       \n",
    "3   NearestStation         \n",
    "4   TimeToNearestStation   \n",
    "5   FloorPlan              \n",
    "6   Area                    \n",
    "7   BuildingYear\n",
    "8   CityPlanning\n",
    "9   Purpose\n",
    "10  Structure               \n",
    "11  Year                    \n",
    "12  Renovation             \n",
    "13  TradePrice  \n",
    "※Here TradePrice is the Output and rest are the input coloumns"
   ]
  },
  {
   "cell_type": "code",
   "execution_count": 4,
   "id": "cf86edbe",
   "metadata": {},
   "outputs": [],
   "source": [
    "df = df[['Type','MunicipalityCode','NearestStation','TimeToNearestStation','FloorPlan',\\\n",
    "'Area','BuildingYear','CityPlanning','Purpose','Structure','Year','Renovation','TradePrice']]"
   ]
  },
  {
   "cell_type": "code",
   "execution_count": 5,
   "id": "e06fb151",
   "metadata": {},
   "outputs": [
    {
     "name": "stdout",
     "output_type": "stream",
     "text": [
      "<class 'pandas.core.frame.DataFrame'>\n",
      "RangeIndex: 406575 entries, 0 to 406574\n",
      "Data columns (total 13 columns):\n",
      " #   Column                Non-Null Count   Dtype  \n",
      "---  ------                --------------   -----  \n",
      " 0   Type                  406575 non-null  object \n",
      " 1   MunicipalityCode      406575 non-null  int64  \n",
      " 2   NearestStation        404847 non-null  object \n",
      " 3   TimeToNearestStation  396236 non-null  object \n",
      " 4   FloorPlan             178131 non-null  object \n",
      " 5   Area                  406575 non-null  int64  \n",
      " 6   BuildingYear          314296 non-null  float64\n",
      " 7   CityPlanning          402749 non-null  object \n",
      " 8   Purpose               157731 non-null  object \n",
      " 9   Structure             318357 non-null  object \n",
      " 10  Year                  406575 non-null  int64  \n",
      " 11  Renovation            166501 non-null  object \n",
      " 12  TradePrice            406575 non-null  int64  \n",
      "dtypes: float64(1), int64(4), object(8)\n",
      "memory usage: 40.3+ MB\n"
     ]
    }
   ],
   "source": [
    "df.info()"
   ]
  },
  {
   "cell_type": "code",
   "execution_count": 6,
   "id": "fde8e683",
   "metadata": {},
   "outputs": [
    {
     "data": {
      "text/plain": [
       "array(['Not yet', 'Done', nan], dtype=object)"
      ]
     },
     "execution_count": 6,
     "metadata": {},
     "output_type": "execute_result"
    }
   ],
   "source": [
    "#Unique values in Rennovation coloumn \n",
    "df['Renovation'].unique()"
   ]
  },
  {
   "cell_type": "code",
   "execution_count": 7,
   "id": "b853dc6a",
   "metadata": {},
   "outputs": [],
   "source": [
    "#Filling missing values in Rennovation coloumn with 'Not yet'\n",
    "df['Renovation'] = df['Renovation'].fillna('Not yet') "
   ]
  },
  {
   "cell_type": "code",
   "execution_count": 8,
   "id": "e2754af9",
   "metadata": {},
   "outputs": [
    {
     "name": "stdout",
     "output_type": "stream",
     "text": [
      "<class 'pandas.core.frame.DataFrame'>\n",
      "RangeIndex: 406575 entries, 0 to 406574\n",
      "Data columns (total 13 columns):\n",
      " #   Column                Non-Null Count   Dtype  \n",
      "---  ------                --------------   -----  \n",
      " 0   Type                  406575 non-null  object \n",
      " 1   MunicipalityCode      406575 non-null  int64  \n",
      " 2   NearestStation        404847 non-null  object \n",
      " 3   TimeToNearestStation  396236 non-null  object \n",
      " 4   FloorPlan             178131 non-null  object \n",
      " 5   Area                  406575 non-null  int64  \n",
      " 6   BuildingYear          314296 non-null  float64\n",
      " 7   CityPlanning          402749 non-null  object \n",
      " 8   Purpose               157731 non-null  object \n",
      " 9   Structure             318357 non-null  object \n",
      " 10  Year                  406575 non-null  int64  \n",
      " 11  Renovation            406575 non-null  object \n",
      " 12  TradePrice            406575 non-null  int64  \n",
      "dtypes: float64(1), int64(4), object(8)\n",
      "memory usage: 40.3+ MB\n"
     ]
    }
   ],
   "source": [
    "df.info()"
   ]
  },
  {
   "cell_type": "code",
   "execution_count": 9,
   "id": "7e2d1d52",
   "metadata": {},
   "outputs": [],
   "source": [
    "#Removing the rows with missing values \n",
    "df.dropna(inplace=True)"
   ]
  },
  {
   "cell_type": "code",
   "execution_count": 10,
   "id": "3b78d56d",
   "metadata": {},
   "outputs": [
    {
     "name": "stdout",
     "output_type": "stream",
     "text": [
      "<class 'pandas.core.frame.DataFrame'>\n",
      "Int64Index: 72129 entries, 0 to 389727\n",
      "Data columns (total 13 columns):\n",
      " #   Column                Non-Null Count  Dtype  \n",
      "---  ------                --------------  -----  \n",
      " 0   Type                  72129 non-null  object \n",
      " 1   MunicipalityCode      72129 non-null  int64  \n",
      " 2   NearestStation        72129 non-null  object \n",
      " 3   TimeToNearestStation  72129 non-null  object \n",
      " 4   FloorPlan             72129 non-null  object \n",
      " 5   Area                  72129 non-null  int64  \n",
      " 6   BuildingYear          72129 non-null  float64\n",
      " 7   CityPlanning          72129 non-null  object \n",
      " 8   Purpose               72129 non-null  object \n",
      " 9   Structure             72129 non-null  object \n",
      " 10  Year                  72129 non-null  int64  \n",
      " 11  Renovation            72129 non-null  object \n",
      " 12  TradePrice            72129 non-null  int64  \n",
      "dtypes: float64(1), int64(4), object(8)\n",
      "memory usage: 7.7+ MB\n"
     ]
    }
   ],
   "source": [
    "df.info()"
   ]
  },
  {
   "cell_type": "code",
   "execution_count": 11,
   "id": "764ef3e8",
   "metadata": {},
   "outputs": [],
   "source": [
    "#saving cleaned data to csv file \n",
    "df.to_csv('save_cleaned.csv',index=False)"
   ]
  }
 ],
 "metadata": {
  "kernelspec": {
   "display_name": "Python 3 (ipykernel)",
   "language": "python",
   "name": "python3"
  },
  "language_info": {
   "codemirror_mode": {
    "name": "ipython",
    "version": 3
   },
   "file_extension": ".py",
   "mimetype": "text/x-python",
   "name": "python",
   "nbconvert_exporter": "python",
   "pygments_lexer": "ipython3",
   "version": "3.9.12"
  }
 },
 "nbformat": 4,
 "nbformat_minor": 5
}
