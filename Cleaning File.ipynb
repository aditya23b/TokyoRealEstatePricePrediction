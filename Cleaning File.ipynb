{
 "cells": [
  {
   "cell_type": "code",
   "execution_count": 1,
   "id": "978d3e2f",
   "metadata": {},
   "outputs": [],
   "source": [
    "import numpy as np\n",
    "import pandas as pd\n",
    "import seaborn as sns\n",
    "import matplotlib.pyplot as plt"
   ]
  },
  {
   "cell_type": "code",
   "execution_count": 2,
   "id": "f853a9b5",
   "metadata": {},
   "outputs": [],
   "source": [
    "# Original dataset has real estate data for entire japan.So filter the data on basis of Prefecture = Tokyo . \n",
    "# Reading original data containing only tokyo real estate data\n",
    "df = pd.read_csv('data.csv')"
   ]
  },
  {
   "cell_type": "code",
   "execution_count": 3,
   "id": "6ac5b917",
   "metadata": {},
   "outputs": [
    {
     "data": {
      "text/html": [
       "<div>\n",
       "<style scoped>\n",
       "    .dataframe tbody tr th:only-of-type {\n",
       "        vertical-align: middle;\n",
       "    }\n",
       "\n",
       "    .dataframe tbody tr th {\n",
       "        vertical-align: top;\n",
       "    }\n",
       "\n",
       "    .dataframe thead th {\n",
       "        text-align: right;\n",
       "    }\n",
       "</style>\n",
       "<table border=\"1\" class=\"dataframe\">\n",
       "  <thead>\n",
       "    <tr style=\"text-align: right;\">\n",
       "      <th></th>\n",
       "      <th>No</th>\n",
       "      <th>Type</th>\n",
       "      <th>Region</th>\n",
       "      <th>MunicipalityCode</th>\n",
       "      <th>Prefecture</th>\n",
       "      <th>Municipality</th>\n",
       "      <th>DistrictName</th>\n",
       "      <th>NearestStation</th>\n",
       "      <th>TimeToNearestStation</th>\n",
       "      <th>MinTimeToNearestStation</th>\n",
       "      <th>...</th>\n",
       "      <th>Classification</th>\n",
       "      <th>Breadth</th>\n",
       "      <th>CityPlanning</th>\n",
       "      <th>CoverageRatio</th>\n",
       "      <th>FloorAreaRatio</th>\n",
       "      <th>Period</th>\n",
       "      <th>Year</th>\n",
       "      <th>Quarter</th>\n",
       "      <th>Renovation</th>\n",
       "      <th>Remarks</th>\n",
       "    </tr>\n",
       "  </thead>\n",
       "  <tbody>\n",
       "    <tr>\n",
       "      <th>0</th>\n",
       "      <td>1</td>\n",
       "      <td>Pre-owned Condominiums, etc.</td>\n",
       "      <td>NaN</td>\n",
       "      <td>13101</td>\n",
       "      <td>Tokyo</td>\n",
       "      <td>Chiyoda Ward</td>\n",
       "      <td>Iidabashi</td>\n",
       "      <td>Iidabashi</td>\n",
       "      <td>4</td>\n",
       "      <td>4.0</td>\n",
       "      <td>...</td>\n",
       "      <td>NaN</td>\n",
       "      <td>NaN</td>\n",
       "      <td>Commercial Zone</td>\n",
       "      <td>80.0</td>\n",
       "      <td>500.0</td>\n",
       "      <td>3rd quarter 2019</td>\n",
       "      <td>2019</td>\n",
       "      <td>3</td>\n",
       "      <td>Not yet</td>\n",
       "      <td>NaN</td>\n",
       "    </tr>\n",
       "    <tr>\n",
       "      <th>1</th>\n",
       "      <td>2</td>\n",
       "      <td>Pre-owned Condominiums, etc.</td>\n",
       "      <td>NaN</td>\n",
       "      <td>13101</td>\n",
       "      <td>Tokyo</td>\n",
       "      <td>Chiyoda Ward</td>\n",
       "      <td>Iidabashi</td>\n",
       "      <td>Iidabashi</td>\n",
       "      <td>4</td>\n",
       "      <td>4.0</td>\n",
       "      <td>...</td>\n",
       "      <td>NaN</td>\n",
       "      <td>NaN</td>\n",
       "      <td>Commercial Zone</td>\n",
       "      <td>80.0</td>\n",
       "      <td>500.0</td>\n",
       "      <td>3rd quarter 2019</td>\n",
       "      <td>2019</td>\n",
       "      <td>3</td>\n",
       "      <td>Done</td>\n",
       "      <td>NaN</td>\n",
       "    </tr>\n",
       "    <tr>\n",
       "      <th>2</th>\n",
       "      <td>3</td>\n",
       "      <td>Residential Land(Land and Building)</td>\n",
       "      <td>Commercial Area</td>\n",
       "      <td>13101</td>\n",
       "      <td>Tokyo</td>\n",
       "      <td>Chiyoda Ward</td>\n",
       "      <td>Iidabashi</td>\n",
       "      <td>Iidabashi</td>\n",
       "      <td>2</td>\n",
       "      <td>2.0</td>\n",
       "      <td>...</td>\n",
       "      <td>Ward Road</td>\n",
       "      <td>4.0</td>\n",
       "      <td>Commercial Zone</td>\n",
       "      <td>80.0</td>\n",
       "      <td>500.0</td>\n",
       "      <td>2nd quarter 2019</td>\n",
       "      <td>2019</td>\n",
       "      <td>2</td>\n",
       "      <td>NaN</td>\n",
       "      <td>NaN</td>\n",
       "    </tr>\n",
       "    <tr>\n",
       "      <th>3</th>\n",
       "      <td>4</td>\n",
       "      <td>Residential Land(Land and Building)</td>\n",
       "      <td>Commercial Area</td>\n",
       "      <td>13101</td>\n",
       "      <td>Tokyo</td>\n",
       "      <td>Chiyoda Ward</td>\n",
       "      <td>Iidabashi</td>\n",
       "      <td>Iidabashi</td>\n",
       "      <td>1</td>\n",
       "      <td>1.0</td>\n",
       "      <td>...</td>\n",
       "      <td>Tokyo Metropolitan Road</td>\n",
       "      <td>27.0</td>\n",
       "      <td>Commercial Zone</td>\n",
       "      <td>80.0</td>\n",
       "      <td>700.0</td>\n",
       "      <td>2nd quarter 2019</td>\n",
       "      <td>2019</td>\n",
       "      <td>2</td>\n",
       "      <td>NaN</td>\n",
       "      <td>NaN</td>\n",
       "    </tr>\n",
       "    <tr>\n",
       "      <th>4</th>\n",
       "      <td>5</td>\n",
       "      <td>Pre-owned Condominiums, etc.</td>\n",
       "      <td>NaN</td>\n",
       "      <td>13101</td>\n",
       "      <td>Tokyo</td>\n",
       "      <td>Chiyoda Ward</td>\n",
       "      <td>Iidabashi</td>\n",
       "      <td>Iidabashi</td>\n",
       "      <td>4</td>\n",
       "      <td>4.0</td>\n",
       "      <td>...</td>\n",
       "      <td>NaN</td>\n",
       "      <td>NaN</td>\n",
       "      <td>Commercial Zone</td>\n",
       "      <td>80.0</td>\n",
       "      <td>500.0</td>\n",
       "      <td>2nd quarter 2019</td>\n",
       "      <td>2019</td>\n",
       "      <td>2</td>\n",
       "      <td>Done</td>\n",
       "      <td>NaN</td>\n",
       "    </tr>\n",
       "  </tbody>\n",
       "</table>\n",
       "<p>5 rows × 38 columns</p>\n",
       "</div>"
      ],
      "text/plain": [
       "   No                                 Type           Region  MunicipalityCode  \\\n",
       "0   1         Pre-owned Condominiums, etc.              NaN             13101   \n",
       "1   2         Pre-owned Condominiums, etc.              NaN             13101   \n",
       "2   3  Residential Land(Land and Building)  Commercial Area             13101   \n",
       "3   4  Residential Land(Land and Building)  Commercial Area             13101   \n",
       "4   5         Pre-owned Condominiums, etc.              NaN             13101   \n",
       "\n",
       "  Prefecture  Municipality DistrictName NearestStation TimeToNearestStation  \\\n",
       "0      Tokyo  Chiyoda Ward    Iidabashi      Iidabashi                    4   \n",
       "1      Tokyo  Chiyoda Ward    Iidabashi      Iidabashi                    4   \n",
       "2      Tokyo  Chiyoda Ward    Iidabashi      Iidabashi                    2   \n",
       "3      Tokyo  Chiyoda Ward    Iidabashi      Iidabashi                    1   \n",
       "4      Tokyo  Chiyoda Ward    Iidabashi      Iidabashi                    4   \n",
       "\n",
       "   MinTimeToNearestStation  ...           Classification  Breadth  \\\n",
       "0                      4.0  ...                      NaN      NaN   \n",
       "1                      4.0  ...                      NaN      NaN   \n",
       "2                      2.0  ...                Ward Road      4.0   \n",
       "3                      1.0  ...  Tokyo Metropolitan Road     27.0   \n",
       "4                      4.0  ...                      NaN      NaN   \n",
       "\n",
       "      CityPlanning  CoverageRatio  FloorAreaRatio            Period  Year  \\\n",
       "0  Commercial Zone           80.0           500.0  3rd quarter 2019  2019   \n",
       "1  Commercial Zone           80.0           500.0  3rd quarter 2019  2019   \n",
       "2  Commercial Zone           80.0           500.0  2nd quarter 2019  2019   \n",
       "3  Commercial Zone           80.0           700.0  2nd quarter 2019  2019   \n",
       "4  Commercial Zone           80.0           500.0  2nd quarter 2019  2019   \n",
       "\n",
       "  Quarter  Renovation  Remarks  \n",
       "0       3     Not yet      NaN  \n",
       "1       3        Done      NaN  \n",
       "2       2         NaN      NaN  \n",
       "3       2         NaN      NaN  \n",
       "4       2        Done      NaN  \n",
       "\n",
       "[5 rows x 38 columns]"
      ]
     },
     "execution_count": 3,
     "metadata": {},
     "output_type": "execute_result"
    }
   ],
   "source": [
    "df.head()"
   ]
  },
  {
   "cell_type": "code",
   "execution_count": 4,
   "id": "cf86edbe",
   "metadata": {},
   "outputs": [],
   "source": [
    "# Selecting only the below coloumns \n",
    "#  1   Type  : Real Estate Type               \n",
    "#  2   Municipality : Municipality Name           \n",
    "#  3   MinTimeToNearestStation  : Minimum time to the nearest station\n",
    "#  4   FloorPlan :Floorplan              \n",
    "#  5   Area : Area of the property                   \n",
    "#  6   BuildingYear : Construction year\n",
    "#  7   Structure : Structure of the property             \n",
    "#  8   Purpose :Purpose of the property                \n",
    "#  9  Year : Year of sale of the property                   \n",
    "#  10  Renovation : Indicator wether renovation has been done or not            \n",
    "#  11  TradePrice  : Price at which property was sold\n",
    "df = df[['Type','Municipality','MinTimeToNearestStation','FloorPlan',\n",
    "'Area','BuildingYear','Structure','Purpose','Year','Renovation','TradePrice']]"
   ]
  },
  {
   "cell_type": "code",
   "execution_count": 5,
   "id": "e06fb151",
   "metadata": {},
   "outputs": [
    {
     "name": "stdout",
     "output_type": "stream",
     "text": [
      "<class 'pandas.core.frame.DataFrame'>\n",
      "RangeIndex: 406575 entries, 0 to 406574\n",
      "Data columns (total 11 columns):\n",
      " #   Column                   Non-Null Count   Dtype  \n",
      "---  ------                   --------------   -----  \n",
      " 0   Type                     406575 non-null  object \n",
      " 1   Municipality             406575 non-null  object \n",
      " 2   MinTimeToNearestStation  396236 non-null  float64\n",
      " 3   FloorPlan                178131 non-null  object \n",
      " 4   Area                     406575 non-null  int64  \n",
      " 5   BuildingYear             314296 non-null  float64\n",
      " 6   Structure                318357 non-null  object \n",
      " 7   Purpose                  157731 non-null  object \n",
      " 8   Year                     406575 non-null  int64  \n",
      " 9   Renovation               166501 non-null  object \n",
      " 10  TradePrice               406575 non-null  int64  \n",
      "dtypes: float64(2), int64(3), object(6)\n",
      "memory usage: 34.1+ MB\n"
     ]
    }
   ],
   "source": [
    "df.info()"
   ]
  },
  {
   "cell_type": "code",
   "execution_count": 6,
   "id": "b2205107",
   "metadata": {},
   "outputs": [
    {
     "data": {
      "text/plain": [
       "array(['Pre-owned Condominiums, etc.',\n",
       "       'Residential Land(Land and Building)',\n",
       "       'Residential Land(Land Only)', 'Forest Land', 'Agricultural Land'],\n",
       "      dtype=object)"
      ]
     },
     "execution_count": 6,
     "metadata": {},
     "output_type": "execute_result"
    }
   ],
   "source": [
    "#unique entries in Type coloumn\n",
    "df['Type'].unique()"
   ]
  },
  {
   "cell_type": "code",
   "execution_count": 7,
   "id": "529d7894",
   "metadata": {},
   "outputs": [],
   "source": [
    "#As we are considering single residential units , we will consider only 'Pre-owned Condominiums'\n",
    "df = df[df['Type'] =='Pre-owned Condominiums, etc.' ]"
   ]
  },
  {
   "cell_type": "code",
   "execution_count": 8,
   "id": "05720b59",
   "metadata": {},
   "outputs": [],
   "source": [
    "#As type coloumn contains only single value we will remove that coloumn\n",
    "df = df.drop('Type',axis=1)"
   ]
  },
  {
   "cell_type": "code",
   "execution_count": 9,
   "id": "12002a79",
   "metadata": {},
   "outputs": [
    {
     "data": {
      "text/plain": [
       "array(['1LDK', '3LDK', '2LDK', '1K', '1R', nan, '1DK+S', '3DK', '1DK',\n",
       "       '2DK', 'Open Floor', '4LDK', '1K+S', '1LDK+S', '2K', '2LDK+S',\n",
       "       'Studio Apartment', '3LDK+S', '2DK+S', '1L', '3K', '4DK', '3LDK+K',\n",
       "       'Duplex', '5LDK+S', '3LK', '7LDK', '2K+S', '4LDK+S', '5LDK',\n",
       "       '1R+S', '3DK+S', '1LK', '4K', '2LD', '6LDK', '2LK', '5DK', '2LK+S',\n",
       "       '2LD+S', '6DK', '4DK+S', '1L+S', '6LDK+S', '3K+S', '3LD+S',\n",
       "       '1LD+S', '3LD', '2D'], dtype=object)"
      ]
     },
     "execution_count": 9,
     "metadata": {},
     "output_type": "execute_result"
    }
   ],
   "source": [
    "#unique entries in FloorPlan coloumn\n",
    "df['FloorPlan'].unique()"
   ]
  },
  {
   "cell_type": "code",
   "execution_count": 10,
   "id": "b697c07d",
   "metadata": {},
   "outputs": [],
   "source": [
    "#as FloorPlan value = Studio Aparment is ambigious ,\n",
    "#we will delete that value from dataframe\n",
    "df = df[df['FloorPlan'] != 'Studio Apartment']"
   ]
  },
  {
   "cell_type": "code",
   "execution_count": 11,
   "id": "7b0c3c79",
   "metadata": {},
   "outputs": [
    {
     "data": {
      "text/plain": [
       "array(['House', 'Other', 'Office', nan, 'Shop'], dtype=object)"
      ]
     },
     "execution_count": 11,
     "metadata": {},
     "output_type": "execute_result"
    }
   ],
   "source": [
    "#unique entries in Purpose coloumn\n",
    "df['Purpose'].unique()"
   ]
  },
  {
   "cell_type": "code",
   "execution_count": 12,
   "id": "5ea8e79e",
   "metadata": {},
   "outputs": [],
   "source": [
    "#as we are considering only residential real estate so we will keep only the rows where purpose ='House'\n",
    "df = df[df['Purpose']=='House']"
   ]
  },
  {
   "cell_type": "code",
   "execution_count": 13,
   "id": "05a63d63",
   "metadata": {},
   "outputs": [],
   "source": [
    "#as purpose coloumn only has one value , we will delete that coloumn \n",
    "df = df.drop('Purpose',axis=1)"
   ]
  },
  {
   "cell_type": "code",
   "execution_count": 14,
   "id": "34b2867e",
   "metadata": {},
   "outputs": [
    {
     "data": {
      "text/plain": [
       "array(['RC', 'SRC', nan, 'S', 'SRC, RC', 'LS', 'SRC, S', 'RC, S', 'W'],\n",
       "      dtype=object)"
      ]
     },
     "execution_count": 14,
     "metadata": {},
     "output_type": "execute_result"
    }
   ],
   "source": [
    "#unique entries in Structure coloumn\n",
    "df['Structure'].unique()"
   ]
  },
  {
   "cell_type": "code",
   "execution_count": 15,
   "id": "b0a80ea2",
   "metadata": {},
   "outputs": [],
   "source": [
    "#removing the missing values from stucture coloumn\n",
    "df= df[df['Structure'].isna()==False]"
   ]
  },
  {
   "cell_type": "code",
   "execution_count": 16,
   "id": "6697d615",
   "metadata": {},
   "outputs": [],
   "source": [
    "#as values 'SRC' , 'SRC,RC' , 'SRC,S' and 'RC,S' are same we will overwrite them with 'SRC'\n",
    "df['Structure'].replace(to_replace=['SRC, RC','SRC, S','RC, S'],value='SRC',inplace=True)"
   ]
  },
  {
   "cell_type": "code",
   "execution_count": 17,
   "id": "2ddb854f",
   "metadata": {},
   "outputs": [
    {
     "data": {
      "text/plain": [
       "array(['RC', 'SRC', 'S', 'LS', 'W'], dtype=object)"
      ]
     },
     "execution_count": 17,
     "metadata": {},
     "output_type": "execute_result"
    }
   ],
   "source": [
    "#confirmign the unique entries in Structure coloumn\n",
    "df['Structure'].unique()"
   ]
  },
  {
   "cell_type": "code",
   "execution_count": 18,
   "id": "750533ca",
   "metadata": {},
   "outputs": [
    {
     "data": {
      "text/plain": [
       "array(['Not yet', 'Done', nan], dtype=object)"
      ]
     },
     "execution_count": 18,
     "metadata": {},
     "output_type": "execute_result"
    }
   ],
   "source": [
    "#unique entries in Renovation coloumn\n",
    "df['Renovation'].unique()"
   ]
  },
  {
   "cell_type": "code",
   "execution_count": 19,
   "id": "9a88afbd",
   "metadata": {},
   "outputs": [],
   "source": [
    "#Replacing missing values in renovation coloumn with Not yet\n",
    "df['Renovation'] = df['Renovation'].fillna('Not yet')"
   ]
  },
  {
   "cell_type": "code",
   "execution_count": 20,
   "id": "50935968",
   "metadata": {},
   "outputs": [
    {
     "name": "stdout",
     "output_type": "stream",
     "text": [
      "<class 'pandas.core.frame.DataFrame'>\n",
      "Int64Index: 69502 entries, 0 to 389727\n",
      "Data columns (total 9 columns):\n",
      " #   Column                   Non-Null Count  Dtype  \n",
      "---  ------                   --------------  -----  \n",
      " 0   Municipality             69502 non-null  object \n",
      " 1   MinTimeToNearestStation  69407 non-null  float64\n",
      " 2   FloorPlan                66901 non-null  object \n",
      " 3   Area                     69502 non-null  int64  \n",
      " 4   BuildingYear             67899 non-null  float64\n",
      " 5   Structure                69502 non-null  object \n",
      " 6   Year                     69502 non-null  int64  \n",
      " 7   Renovation               69502 non-null  object \n",
      " 8   TradePrice               69502 non-null  int64  \n",
      "dtypes: float64(2), int64(3), object(4)\n",
      "memory usage: 5.3+ MB\n"
     ]
    }
   ],
   "source": [
    "df.info()"
   ]
  },
  {
   "cell_type": "code",
   "execution_count": 21,
   "id": "6fff68ad",
   "metadata": {},
   "outputs": [],
   "source": [
    "#we will remove all the rows with missing data\n",
    "df = df.dropna()"
   ]
  },
  {
   "cell_type": "code",
   "execution_count": 22,
   "id": "e2754af9",
   "metadata": {},
   "outputs": [
    {
     "name": "stdout",
     "output_type": "stream",
     "text": [
      "<class 'pandas.core.frame.DataFrame'>\n",
      "Int64Index: 65342 entries, 0 to 389727\n",
      "Data columns (total 9 columns):\n",
      " #   Column                   Non-Null Count  Dtype  \n",
      "---  ------                   --------------  -----  \n",
      " 0   Municipality             65342 non-null  object \n",
      " 1   MinTimeToNearestStation  65342 non-null  float64\n",
      " 2   FloorPlan                65342 non-null  object \n",
      " 3   Area                     65342 non-null  int64  \n",
      " 4   BuildingYear             65342 non-null  float64\n",
      " 5   Structure                65342 non-null  object \n",
      " 6   Year                     65342 non-null  int64  \n",
      " 7   Renovation               65342 non-null  object \n",
      " 8   TradePrice               65342 non-null  int64  \n",
      "dtypes: float64(2), int64(3), object(4)\n",
      "memory usage: 5.0+ MB\n"
     ]
    }
   ],
   "source": [
    "df.info()"
   ]
  },
  {
   "cell_type": "code",
   "execution_count": 23,
   "id": "d09cef3f",
   "metadata": {},
   "outputs": [],
   "source": [
    "#saving the cleaned dataset\n",
    "df.to_csv('save_cleaned.csv',index=False)"
   ]
  }
 ],
 "metadata": {
  "kernelspec": {
   "display_name": "Python 3 (ipykernel)",
   "language": "python",
   "name": "python3"
  },
  "language_info": {
   "codemirror_mode": {
    "name": "ipython",
    "version": 3
   },
   "file_extension": ".py",
   "mimetype": "text/x-python",
   "name": "python",
   "nbconvert_exporter": "python",
   "pygments_lexer": "ipython3",
   "version": "3.9.12"
  }
 },
 "nbformat": 4,
 "nbformat_minor": 5
}
