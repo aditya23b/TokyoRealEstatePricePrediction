{
 "cells": [
  {
   "cell_type": "code",
   "execution_count": 1,
   "id": "f73cdf3e",
   "metadata": {},
   "outputs": [],
   "source": [
    "import numpy as np\n",
    "import pandas as pd"
   ]
  },
  {
   "cell_type": "code",
   "execution_count": 2,
   "id": "4e2a2ed7",
   "metadata": {},
   "outputs": [],
   "source": [
    "#Reading the cleaned csv data set file\n",
    "df = pd.read_csv('save_cleaned.csv')"
   ]
  },
  {
   "cell_type": "code",
   "execution_count": 3,
   "id": "561004f5",
   "metadata": {},
   "outputs": [
    {
     "name": "stdout",
     "output_type": "stream",
     "text": [
      "<class 'pandas.core.frame.DataFrame'>\n",
      "RangeIndex: 72129 entries, 0 to 72128\n",
      "Data columns (total 13 columns):\n",
      " #   Column                Non-Null Count  Dtype  \n",
      "---  ------                --------------  -----  \n",
      " 0   Type                  72129 non-null  object \n",
      " 1   MunicipalityCode      72129 non-null  int64  \n",
      " 2   NearestStation        72129 non-null  object \n",
      " 3   TimeToNearestStation  72129 non-null  object \n",
      " 4   FloorPlan             72129 non-null  object \n",
      " 5   Area                  72129 non-null  int64  \n",
      " 6   BuildingYear          72129 non-null  float64\n",
      " 7   CityPlanning          72129 non-null  object \n",
      " 8   Purpose               72129 non-null  object \n",
      " 9   Structure             72129 non-null  object \n",
      " 10  Year                  72129 non-null  int64  \n",
      " 11  Renovation            72129 non-null  object \n",
      " 12  TradePrice            72129 non-null  int64  \n",
      "dtypes: float64(1), int64(4), object(8)\n",
      "memory usage: 7.2+ MB\n"
     ]
    }
   ],
   "source": [
    "df.info()"
   ]
  },
  {
   "cell_type": "code",
   "execution_count": 4,
   "id": "e4234498",
   "metadata": {},
   "outputs": [],
   "source": [
    "#Changing the type of MunicipalityCode coloumn to String \n",
    "df['MunicipalityCode'] = df['MunicipalityCode'].astype('string')"
   ]
  },
  {
   "cell_type": "code",
   "execution_count": 5,
   "id": "0f4e6658",
   "metadata": {},
   "outputs": [
    {
     "data": {
      "text/html": [
       "<div>\n",
       "<style scoped>\n",
       "    .dataframe tbody tr th:only-of-type {\n",
       "        vertical-align: middle;\n",
       "    }\n",
       "\n",
       "    .dataframe tbody tr th {\n",
       "        vertical-align: top;\n",
       "    }\n",
       "\n",
       "    .dataframe thead th {\n",
       "        text-align: right;\n",
       "    }\n",
       "</style>\n",
       "<table border=\"1\" class=\"dataframe\">\n",
       "  <thead>\n",
       "    <tr style=\"text-align: right;\">\n",
       "      <th></th>\n",
       "      <th>Area</th>\n",
       "      <th>BuildingYear</th>\n",
       "      <th>Year</th>\n",
       "      <th>TradePrice</th>\n",
       "    </tr>\n",
       "  </thead>\n",
       "  <tbody>\n",
       "    <tr>\n",
       "      <th>count</th>\n",
       "      <td>72129.000000</td>\n",
       "      <td>72129.000000</td>\n",
       "      <td>72129.000000</td>\n",
       "      <td>7.212900e+04</td>\n",
       "    </tr>\n",
       "    <tr>\n",
       "      <th>mean</th>\n",
       "      <td>47.752222</td>\n",
       "      <td>1998.262294</td>\n",
       "      <td>2016.475468</td>\n",
       "      <td>3.398188e+07</td>\n",
       "    </tr>\n",
       "    <tr>\n",
       "      <th>std</th>\n",
       "      <td>27.370700</td>\n",
       "      <td>12.251270</td>\n",
       "      <td>1.584777</td>\n",
       "      <td>4.579969e+07</td>\n",
       "    </tr>\n",
       "    <tr>\n",
       "      <th>min</th>\n",
       "      <td>10.000000</td>\n",
       "      <td>1945.000000</td>\n",
       "      <td>2013.000000</td>\n",
       "      <td>2.400000e+05</td>\n",
       "    </tr>\n",
       "    <tr>\n",
       "      <th>25%</th>\n",
       "      <td>25.000000</td>\n",
       "      <td>1990.000000</td>\n",
       "      <td>2015.000000</td>\n",
       "      <td>1.900000e+07</td>\n",
       "    </tr>\n",
       "    <tr>\n",
       "      <th>50%</th>\n",
       "      <td>50.000000</td>\n",
       "      <td>2001.000000</td>\n",
       "      <td>2016.000000</td>\n",
       "      <td>2.700000e+07</td>\n",
       "    </tr>\n",
       "    <tr>\n",
       "      <th>75%</th>\n",
       "      <td>65.000000</td>\n",
       "      <td>2007.000000</td>\n",
       "      <td>2018.000000</td>\n",
       "      <td>4.100000e+07</td>\n",
       "    </tr>\n",
       "    <tr>\n",
       "      <th>max</th>\n",
       "      <td>2000.000000</td>\n",
       "      <td>2019.000000</td>\n",
       "      <td>2019.000000</td>\n",
       "      <td>8.600000e+09</td>\n",
       "    </tr>\n",
       "  </tbody>\n",
       "</table>\n",
       "</div>"
      ],
      "text/plain": [
       "               Area  BuildingYear          Year    TradePrice\n",
       "count  72129.000000  72129.000000  72129.000000  7.212900e+04\n",
       "mean      47.752222   1998.262294   2016.475468  3.398188e+07\n",
       "std       27.370700     12.251270      1.584777  4.579969e+07\n",
       "min       10.000000   1945.000000   2013.000000  2.400000e+05\n",
       "25%       25.000000   1990.000000   2015.000000  1.900000e+07\n",
       "50%       50.000000   2001.000000   2016.000000  2.700000e+07\n",
       "75%       65.000000   2007.000000   2018.000000  4.100000e+07\n",
       "max     2000.000000   2019.000000   2019.000000  8.600000e+09"
      ]
     },
     "execution_count": 5,
     "metadata": {},
     "output_type": "execute_result"
    }
   ],
   "source": [
    "#Analysing the numerical coloumns in dataset data\n",
    "df.describe()"
   ]
  },
  {
   "cell_type": "code",
   "execution_count": 6,
   "id": "f041279d",
   "metadata": {},
   "outputs": [
    {
     "data": {
      "text/plain": [
       "Area            0.572021\n",
       "BuildingYear    0.176611\n",
       "Year            0.028501\n",
       "TradePrice      1.000000\n",
       "Name: TradePrice, dtype: float64"
      ]
     },
     "execution_count": 6,
     "metadata": {},
     "output_type": "execute_result"
    }
   ],
   "source": [
    "#Analyzing the correlation of numerical coloumns with Trade Price\n",
    "df.corr()['TradePrice']"
   ]
  },
  {
   "cell_type": "code",
   "execution_count": 7,
   "id": "1255da69",
   "metadata": {},
   "outputs": [],
   "source": [
    "#Creating the input set\n",
    "X = pd.get_dummies(df.drop('TradePrice',axis = 1))  "
   ]
  },
  {
   "cell_type": "code",
   "execution_count": 8,
   "id": "3200a243",
   "metadata": {},
   "outputs": [],
   "source": [
    "#output set\n",
    "y = df['TradePrice'] "
   ]
  },
  {
   "cell_type": "code",
   "execution_count": 9,
   "id": "ed3d7979",
   "metadata": {},
   "outputs": [],
   "source": [
    "#Spliting the data set into test,training and hold out test data set\n",
    "from sklearn.model_selection import train_test_split"
   ]
  },
  {
   "cell_type": "code",
   "execution_count": 10,
   "id": "05161add",
   "metadata": {},
   "outputs": [],
   "source": [
    "X_train, X_test, y_train, y_test = train_test_split(X, y, test_size=0.3, random_state=42)"
   ]
  },
  {
   "cell_type": "code",
   "execution_count": 11,
   "id": "740f4142",
   "metadata": {},
   "outputs": [],
   "source": [
    "X_hold, X_test, y_hold, y_test = train_test_split(X_test, y_test, test_size=0.5, random_state=42)"
   ]
  },
  {
   "cell_type": "code",
   "execution_count": 12,
   "id": "6d656346",
   "metadata": {},
   "outputs": [],
   "source": [
    "#Applying RandomForest \n",
    "from sklearn.ensemble import RandomForestRegressor\n",
    "model_rf = RandomForestRegressor()"
   ]
  },
  {
   "cell_type": "code",
   "execution_count": 13,
   "id": "aa819ac9",
   "metadata": {},
   "outputs": [
    {
     "data": {
      "text/plain": [
       "RandomForestRegressor()"
      ]
     },
     "execution_count": 13,
     "metadata": {},
     "output_type": "execute_result"
    }
   ],
   "source": [
    "model_rf.fit(X_train,y_train)"
   ]
  },
  {
   "cell_type": "code",
   "execution_count": 14,
   "id": "50c922b6",
   "metadata": {},
   "outputs": [],
   "source": [
    "#Calculating predictions\n",
    "y_pred = model_rf.predict(X_test)"
   ]
  },
  {
   "cell_type": "code",
   "execution_count": 15,
   "id": "4d083690",
   "metadata": {},
   "outputs": [],
   "source": [
    "from sklearn.metrics import mean_absolute_percentage_error"
   ]
  },
  {
   "cell_type": "code",
   "execution_count": 16,
   "id": "c8fad717",
   "metadata": {},
   "outputs": [
    {
     "data": {
      "text/plain": [
       "0.18329595573439944"
      ]
     },
     "execution_count": 16,
     "metadata": {},
     "output_type": "execute_result"
    }
   ],
   "source": [
    "mean_absolute_percentage_error(y_test, y_pred)"
   ]
  },
  {
   "cell_type": "code",
   "execution_count": 17,
   "id": "336b2bac",
   "metadata": {},
   "outputs": [],
   "source": [
    "#Applying Decision Tree Regressor\n",
    "from sklearn.tree import DecisionTreeRegressor\n",
    "model_tree = DecisionTreeRegressor()"
   ]
  },
  {
   "cell_type": "code",
   "execution_count": 18,
   "id": "7abccd98",
   "metadata": {},
   "outputs": [
    {
     "data": {
      "text/plain": [
       "DecisionTreeRegressor()"
      ]
     },
     "execution_count": 18,
     "metadata": {},
     "output_type": "execute_result"
    }
   ],
   "source": [
    "model_tree.fit(X_train,y_train)"
   ]
  },
  {
   "cell_type": "code",
   "execution_count": 19,
   "id": "0600357e",
   "metadata": {},
   "outputs": [],
   "source": [
    "y_pred_tree = model_tree.predict(X_test)"
   ]
  },
  {
   "cell_type": "code",
   "execution_count": 20,
   "id": "8461e2a9",
   "metadata": {},
   "outputs": [
    {
     "data": {
      "text/plain": [
       "0.2270699547451734"
      ]
     },
     "execution_count": 20,
     "metadata": {},
     "output_type": "execute_result"
    }
   ],
   "source": [
    "mean_absolute_percentage_error(y_test,y_pred_tree)"
   ]
  },
  {
   "cell_type": "code",
   "execution_count": 21,
   "id": "5eb63afa",
   "metadata": {},
   "outputs": [],
   "source": [
    "#Scaling the data to apply Support Vector Regressor\n",
    "from sklearn.preprocessing import StandardScaler\n",
    "scaler = StandardScaler()"
   ]
  },
  {
   "cell_type": "code",
   "execution_count": 22,
   "id": "dcfd07e1",
   "metadata": {},
   "outputs": [],
   "source": [
    "scaler.fit(X_train)\n",
    "X_train_scaled = scaler.fit_transform(X_train) \n",
    "X_test_scaled = scaler.transform(X_test) "
   ]
  },
  {
   "cell_type": "code",
   "execution_count": 23,
   "id": "1d825670",
   "metadata": {},
   "outputs": [],
   "source": [
    "#Applying Support Vector Regressor\n",
    "from sklearn.svm import SVR\n",
    "model_SVR = SVR()"
   ]
  },
  {
   "cell_type": "code",
   "execution_count": 24,
   "id": "22fb0b58",
   "metadata": {},
   "outputs": [
    {
     "data": {
      "text/plain": [
       "SVR()"
      ]
     },
     "execution_count": 24,
     "metadata": {},
     "output_type": "execute_result"
    }
   ],
   "source": [
    "model_SVR.fit(X_train_scaled,y_train)"
   ]
  },
  {
   "cell_type": "code",
   "execution_count": 25,
   "id": "acc14cce",
   "metadata": {},
   "outputs": [],
   "source": [
    "y_pred_svr = model_SVR.predict(X_test_scaled)"
   ]
  },
  {
   "cell_type": "code",
   "execution_count": 26,
   "id": "c1c00fe9",
   "metadata": {},
   "outputs": [
    {
     "data": {
      "text/plain": [
       "0.6320532685192569"
      ]
     },
     "execution_count": 26,
     "metadata": {},
     "output_type": "execute_result"
    }
   ],
   "source": [
    "mean_absolute_percentage_error(y_test,y_pred_svr)"
   ]
  },
  {
   "cell_type": "code",
   "execution_count": 27,
   "id": "f91f5f0e",
   "metadata": {},
   "outputs": [],
   "source": [
    "#Applying KNN\n",
    "from sklearn.neighbors import KNeighborsRegressor\n",
    "model_knn = KNeighborsRegressor()"
   ]
  },
  {
   "cell_type": "code",
   "execution_count": 28,
   "id": "4530f8b1",
   "metadata": {},
   "outputs": [
    {
     "data": {
      "text/plain": [
       "KNeighborsRegressor()"
      ]
     },
     "execution_count": 28,
     "metadata": {},
     "output_type": "execute_result"
    }
   ],
   "source": [
    "model_knn.fit(X_train_scaled,y_train)"
   ]
  },
  {
   "cell_type": "code",
   "execution_count": 29,
   "id": "bf96b429",
   "metadata": {},
   "outputs": [],
   "source": [
    "y_pred_knn = model_knn.predict(X_test_scaled) "
   ]
  },
  {
   "cell_type": "code",
   "execution_count": 30,
   "id": "b55ee9f1",
   "metadata": {},
   "outputs": [
    {
     "data": {
      "text/plain": [
       "0.40262584917627725"
      ]
     },
     "execution_count": 30,
     "metadata": {},
     "output_type": "execute_result"
    }
   ],
   "source": [
    "mean_absolute_percentage_error(y_test,y_pred_knn)"
   ]
  },
  {
   "cell_type": "code",
   "execution_count": 31,
   "id": "f2229d81",
   "metadata": {},
   "outputs": [],
   "source": [
    "#Comparing the performance of these 4 algorithms\n",
    "#1. Random Forrest         - 18% error\n",
    "#2. Decision Trees         - 23% error\n",
    "#3. Support Vector         - 63% error\n",
    "#4. KNN                    - 40% error\n",
    "#So the best performance is from Random Forest"
   ]
  },
  {
   "cell_type": "code",
   "execution_count": 32,
   "id": "0da6374e",
   "metadata": {},
   "outputs": [],
   "source": [
    "#calculating performance on hold out test set for random forest"
   ]
  },
  {
   "cell_type": "code",
   "execution_count": 33,
   "id": "cb22bfc0",
   "metadata": {},
   "outputs": [],
   "source": [
    "y_pred_hold = model_rf.predict(X_hold)"
   ]
  },
  {
   "cell_type": "code",
   "execution_count": 34,
   "id": "730079cb",
   "metadata": {},
   "outputs": [
    {
     "data": {
      "text/plain": [
       "0.18850152201457168"
      ]
     },
     "execution_count": 34,
     "metadata": {},
     "output_type": "execute_result"
    }
   ],
   "source": [
    "mean_absolute_percentage_error(y_hold,y_pred_hold)"
   ]
  },
  {
   "cell_type": "code",
   "execution_count": 35,
   "id": "1216cd56",
   "metadata": {},
   "outputs": [],
   "source": [
    "#Final performance metric ( Mean absolute percentage error ) = 18.8%"
   ]
  },
  {
   "cell_type": "code",
   "execution_count": 36,
   "id": "6b28c4f6",
   "metadata": {},
   "outputs": [],
   "source": [
    "#Creating the final prediction model\n",
    "model_final = RandomForestRegressor()"
   ]
  },
  {
   "cell_type": "code",
   "execution_count": 37,
   "id": "a02978e0",
   "metadata": {},
   "outputs": [
    {
     "data": {
      "text/plain": [
       "RandomForestRegressor()"
      ]
     },
     "execution_count": 37,
     "metadata": {},
     "output_type": "execute_result"
    }
   ],
   "source": [
    "#training the final model on entire dataset\n",
    "model_final.fit(X,y)"
   ]
  },
  {
   "cell_type": "code",
   "execution_count": 38,
   "id": "fa2cdff1",
   "metadata": {},
   "outputs": [
    {
     "data": {
      "text/plain": [
       "['Prediction_model.pkl']"
      ]
     },
     "execution_count": 38,
     "metadata": {},
     "output_type": "execute_result"
    }
   ],
   "source": [
    "# Save the final model as a pickle in a file\n",
    "import joblib\n",
    "joblib.dump(model_final, 'Prediction_model.pkl')"
   ]
  }
 ],
 "metadata": {
  "kernelspec": {
   "display_name": "Python 3 (ipykernel)",
   "language": "python",
   "name": "python3"
  },
  "language_info": {
   "codemirror_mode": {
    "name": "ipython",
    "version": 3
   },
   "file_extension": ".py",
   "mimetype": "text/x-python",
   "name": "python",
   "nbconvert_exporter": "python",
   "pygments_lexer": "ipython3",
   "version": "3.9.12"
  }
 },
 "nbformat": 4,
 "nbformat_minor": 5
}
