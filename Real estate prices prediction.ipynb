{
 "cells": [
  {
   "cell_type": "code",
   "execution_count": 1,
   "id": "f73cdf3e",
   "metadata": {},
   "outputs": [],
   "source": [
    "import numpy as np\n",
    "import pandas as pd"
   ]
  },
  {
   "cell_type": "code",
   "execution_count": 2,
   "id": "4e2a2ed7",
   "metadata": {},
   "outputs": [
    {
     "data": {
      "text/html": [
       "<div>\n",
       "<style scoped>\n",
       "    .dataframe tbody tr th:only-of-type {\n",
       "        vertical-align: middle;\n",
       "    }\n",
       "\n",
       "    .dataframe tbody tr th {\n",
       "        vertical-align: top;\n",
       "    }\n",
       "\n",
       "    .dataframe thead th {\n",
       "        text-align: right;\n",
       "    }\n",
       "</style>\n",
       "<table border=\"1\" class=\"dataframe\">\n",
       "  <thead>\n",
       "    <tr style=\"text-align: right;\">\n",
       "      <th></th>\n",
       "      <th>Municipality</th>\n",
       "      <th>MinTimeToNearestStation</th>\n",
       "      <th>FloorPlan</th>\n",
       "      <th>Area</th>\n",
       "      <th>BuildingYear</th>\n",
       "      <th>Structure</th>\n",
       "      <th>Year</th>\n",
       "      <th>Renovation</th>\n",
       "      <th>TradePrice</th>\n",
       "    </tr>\n",
       "  </thead>\n",
       "  <tbody>\n",
       "    <tr>\n",
       "      <th>0</th>\n",
       "      <td>Chiyoda Ward</td>\n",
       "      <td>4.0</td>\n",
       "      <td>1LDK</td>\n",
       "      <td>30</td>\n",
       "      <td>2013.0</td>\n",
       "      <td>RC</td>\n",
       "      <td>2019</td>\n",
       "      <td>Not yet</td>\n",
       "      <td>40000000</td>\n",
       "    </tr>\n",
       "    <tr>\n",
       "      <th>1</th>\n",
       "      <td>Chiyoda Ward</td>\n",
       "      <td>4.0</td>\n",
       "      <td>2LDK</td>\n",
       "      <td>65</td>\n",
       "      <td>2007.0</td>\n",
       "      <td>RC</td>\n",
       "      <td>2019</td>\n",
       "      <td>Done</td>\n",
       "      <td>100000000</td>\n",
       "    </tr>\n",
       "    <tr>\n",
       "      <th>2</th>\n",
       "      <td>Chiyoda Ward</td>\n",
       "      <td>3.0</td>\n",
       "      <td>1LDK</td>\n",
       "      <td>35</td>\n",
       "      <td>1985.0</td>\n",
       "      <td>SRC</td>\n",
       "      <td>2018</td>\n",
       "      <td>Not yet</td>\n",
       "      <td>24000000</td>\n",
       "    </tr>\n",
       "    <tr>\n",
       "      <th>3</th>\n",
       "      <td>Chiyoda Ward</td>\n",
       "      <td>4.0</td>\n",
       "      <td>1K</td>\n",
       "      <td>20</td>\n",
       "      <td>1982.0</td>\n",
       "      <td>SRC</td>\n",
       "      <td>2018</td>\n",
       "      <td>Not yet</td>\n",
       "      <td>13000000</td>\n",
       "    </tr>\n",
       "    <tr>\n",
       "      <th>4</th>\n",
       "      <td>Chiyoda Ward</td>\n",
       "      <td>3.0</td>\n",
       "      <td>1K</td>\n",
       "      <td>30</td>\n",
       "      <td>1985.0</td>\n",
       "      <td>SRC</td>\n",
       "      <td>2018</td>\n",
       "      <td>Not yet</td>\n",
       "      <td>22000000</td>\n",
       "    </tr>\n",
       "  </tbody>\n",
       "</table>\n",
       "</div>"
      ],
      "text/plain": [
       "   Municipality  MinTimeToNearestStation FloorPlan  Area  BuildingYear  \\\n",
       "0  Chiyoda Ward                      4.0      1LDK    30        2013.0   \n",
       "1  Chiyoda Ward                      4.0      2LDK    65        2007.0   \n",
       "2  Chiyoda Ward                      3.0      1LDK    35        1985.0   \n",
       "3  Chiyoda Ward                      4.0        1K    20        1982.0   \n",
       "4  Chiyoda Ward                      3.0        1K    30        1985.0   \n",
       "\n",
       "  Structure  Year Renovation  TradePrice  \n",
       "0        RC  2019    Not yet    40000000  \n",
       "1        RC  2019       Done   100000000  \n",
       "2       SRC  2018    Not yet    24000000  \n",
       "3       SRC  2018    Not yet    13000000  \n",
       "4       SRC  2018    Not yet    22000000  "
      ]
     },
     "execution_count": 2,
     "metadata": {},
     "output_type": "execute_result"
    }
   ],
   "source": [
    "#Reading the cleaned csv data set file\n",
    "df = pd.read_csv('save_cleaned.csv')\n",
    "df.head()"
   ]
  },
  {
   "cell_type": "code",
   "execution_count": 3,
   "id": "561004f5",
   "metadata": {},
   "outputs": [
    {
     "name": "stdout",
     "output_type": "stream",
     "text": [
      "<class 'pandas.core.frame.DataFrame'>\n",
      "RangeIndex: 65342 entries, 0 to 65341\n",
      "Data columns (total 9 columns):\n",
      " #   Column                   Non-Null Count  Dtype  \n",
      "---  ------                   --------------  -----  \n",
      " 0   Municipality             65342 non-null  object \n",
      " 1   MinTimeToNearestStation  65342 non-null  float64\n",
      " 2   FloorPlan                65342 non-null  object \n",
      " 3   Area                     65342 non-null  int64  \n",
      " 4   BuildingYear             65342 non-null  float64\n",
      " 5   Structure                65342 non-null  object \n",
      " 6   Year                     65342 non-null  int64  \n",
      " 7   Renovation               65342 non-null  object \n",
      " 8   TradePrice               65342 non-null  int64  \n",
      "dtypes: float64(2), int64(3), object(4)\n",
      "memory usage: 4.5+ MB\n"
     ]
    }
   ],
   "source": [
    "df.info()"
   ]
  },
  {
   "cell_type": "code",
   "execution_count": 4,
   "id": "0f4e6658",
   "metadata": {},
   "outputs": [
    {
     "data": {
      "text/html": [
       "<div>\n",
       "<style scoped>\n",
       "    .dataframe tbody tr th:only-of-type {\n",
       "        vertical-align: middle;\n",
       "    }\n",
       "\n",
       "    .dataframe tbody tr th {\n",
       "        vertical-align: top;\n",
       "    }\n",
       "\n",
       "    .dataframe thead th {\n",
       "        text-align: right;\n",
       "    }\n",
       "</style>\n",
       "<table border=\"1\" class=\"dataframe\">\n",
       "  <thead>\n",
       "    <tr style=\"text-align: right;\">\n",
       "      <th></th>\n",
       "      <th>MinTimeToNearestStation</th>\n",
       "      <th>Area</th>\n",
       "      <th>BuildingYear</th>\n",
       "      <th>Year</th>\n",
       "      <th>TradePrice</th>\n",
       "    </tr>\n",
       "  </thead>\n",
       "  <tbody>\n",
       "    <tr>\n",
       "      <th>count</th>\n",
       "      <td>65342.000000</td>\n",
       "      <td>65342.000000</td>\n",
       "      <td>65342.000000</td>\n",
       "      <td>65342.000000</td>\n",
       "      <td>6.534200e+04</td>\n",
       "    </tr>\n",
       "    <tr>\n",
       "      <th>mean</th>\n",
       "      <td>7.624285</td>\n",
       "      <td>48.555600</td>\n",
       "      <td>1998.500520</td>\n",
       "      <td>2016.460883</td>\n",
       "      <td>3.439279e+07</td>\n",
       "    </tr>\n",
       "    <tr>\n",
       "      <th>std</th>\n",
       "      <td>5.275572</td>\n",
       "      <td>24.520104</td>\n",
       "      <td>12.162561</td>\n",
       "      <td>1.587625</td>\n",
       "      <td>3.139604e+07</td>\n",
       "    </tr>\n",
       "    <tr>\n",
       "      <th>min</th>\n",
       "      <td>0.000000</td>\n",
       "      <td>10.000000</td>\n",
       "      <td>1945.000000</td>\n",
       "      <td>2013.000000</td>\n",
       "      <td>2.400000e+05</td>\n",
       "    </tr>\n",
       "    <tr>\n",
       "      <th>25%</th>\n",
       "      <td>4.000000</td>\n",
       "      <td>25.000000</td>\n",
       "      <td>1990.000000</td>\n",
       "      <td>2015.000000</td>\n",
       "      <td>1.900000e+07</td>\n",
       "    </tr>\n",
       "    <tr>\n",
       "      <th>50%</th>\n",
       "      <td>7.000000</td>\n",
       "      <td>50.000000</td>\n",
       "      <td>2002.000000</td>\n",
       "      <td>2016.000000</td>\n",
       "      <td>2.800000e+07</td>\n",
       "    </tr>\n",
       "    <tr>\n",
       "      <th>75%</th>\n",
       "      <td>10.000000</td>\n",
       "      <td>65.000000</td>\n",
       "      <td>2007.000000</td>\n",
       "      <td>2018.000000</td>\n",
       "      <td>4.200000e+07</td>\n",
       "    </tr>\n",
       "    <tr>\n",
       "      <th>max</th>\n",
       "      <td>120.000000</td>\n",
       "      <td>970.000000</td>\n",
       "      <td>2019.000000</td>\n",
       "      <td>2019.000000</td>\n",
       "      <td>3.200000e+09</td>\n",
       "    </tr>\n",
       "  </tbody>\n",
       "</table>\n",
       "</div>"
      ],
      "text/plain": [
       "       MinTimeToNearestStation          Area  BuildingYear          Year  \\\n",
       "count             65342.000000  65342.000000  65342.000000  65342.000000   \n",
       "mean                  7.624285     48.555600   1998.500520   2016.460883   \n",
       "std                   5.275572     24.520104     12.162561      1.587625   \n",
       "min                   0.000000     10.000000   1945.000000   2013.000000   \n",
       "25%                   4.000000     25.000000   1990.000000   2015.000000   \n",
       "50%                   7.000000     50.000000   2002.000000   2016.000000   \n",
       "75%                  10.000000     65.000000   2007.000000   2018.000000   \n",
       "max                 120.000000    970.000000   2019.000000   2019.000000   \n",
       "\n",
       "         TradePrice  \n",
       "count  6.534200e+04  \n",
       "mean   3.439279e+07  \n",
       "std    3.139604e+07  \n",
       "min    2.400000e+05  \n",
       "25%    1.900000e+07  \n",
       "50%    2.800000e+07  \n",
       "75%    4.200000e+07  \n",
       "max    3.200000e+09  "
      ]
     },
     "execution_count": 4,
     "metadata": {},
     "output_type": "execute_result"
    }
   ],
   "source": [
    "#Analysing the numerical coloumns in dataset data\n",
    "df.describe()"
   ]
  },
  {
   "cell_type": "code",
   "execution_count": 5,
   "id": "f041279d",
   "metadata": {},
   "outputs": [
    {
     "data": {
      "text/plain": [
       "MinTimeToNearestStation   -0.066066\n",
       "Area                       0.519474\n",
       "BuildingYear               0.256701\n",
       "Year                       0.043962\n",
       "TradePrice                 1.000000\n",
       "Name: TradePrice, dtype: float64"
      ]
     },
     "execution_count": 5,
     "metadata": {},
     "output_type": "execute_result"
    }
   ],
   "source": [
    "#Analyzing the correlation of numerical coloumns with Trade Price\n",
    "df.corr()['TradePrice']"
   ]
  },
  {
   "cell_type": "code",
   "execution_count": 6,
   "id": "9e168442",
   "metadata": {},
   "outputs": [],
   "source": [
    "#creating onehotencoder\n",
    "from sklearn.preprocessing import OneHotEncoder\n",
    "from sklearn.compose import make_column_transformer\n",
    "ohe = make_column_transformer((OneHotEncoder(), ['Municipality','FloorPlan','Structure','Renovation']),remainder='passthrough',sparse_threshold=0)"
   ]
  },
  {
   "cell_type": "code",
   "execution_count": 7,
   "id": "0ff2a78f",
   "metadata": {},
   "outputs": [],
   "source": [
    "X = ohe.fit_transform(df.drop('TradePrice',axis = 1))"
   ]
  },
  {
   "cell_type": "code",
   "execution_count": 8,
   "id": "bfafed3a",
   "metadata": {},
   "outputs": [
    {
     "data": {
      "text/html": [
       "<div>\n",
       "<style scoped>\n",
       "    .dataframe tbody tr th:only-of-type {\n",
       "        vertical-align: middle;\n",
       "    }\n",
       "\n",
       "    .dataframe tbody tr th {\n",
       "        vertical-align: top;\n",
       "    }\n",
       "\n",
       "    .dataframe thead th {\n",
       "        text-align: right;\n",
       "    }\n",
       "</style>\n",
       "<table border=\"1\" class=\"dataframe\">\n",
       "  <thead>\n",
       "    <tr style=\"text-align: right;\">\n",
       "      <th></th>\n",
       "      <th>onehotencoder__x0_Adachi Ward</th>\n",
       "      <th>onehotencoder__x0_Akiruno City</th>\n",
       "      <th>onehotencoder__x0_Akishima City</th>\n",
       "      <th>onehotencoder__x0_Arakawa Ward</th>\n",
       "      <th>onehotencoder__x0_Bunkyo Ward</th>\n",
       "      <th>onehotencoder__x0_Chiyoda Ward</th>\n",
       "      <th>onehotencoder__x0_Chofu City</th>\n",
       "      <th>onehotencoder__x0_Chuo Ward</th>\n",
       "      <th>onehotencoder__x0_Edogawa Ward</th>\n",
       "      <th>onehotencoder__x0_Fuchu City</th>\n",
       "      <th>...</th>\n",
       "      <th>onehotencoder__x2_RC</th>\n",
       "      <th>onehotencoder__x2_S</th>\n",
       "      <th>onehotencoder__x2_SRC</th>\n",
       "      <th>onehotencoder__x2_W</th>\n",
       "      <th>onehotencoder__x3_Done</th>\n",
       "      <th>onehotencoder__x3_Not yet</th>\n",
       "      <th>MinTimeToNearestStation</th>\n",
       "      <th>Area</th>\n",
       "      <th>BuildingYear</th>\n",
       "      <th>Year</th>\n",
       "    </tr>\n",
       "  </thead>\n",
       "  <tbody>\n",
       "    <tr>\n",
       "      <th>0</th>\n",
       "      <td>0.0</td>\n",
       "      <td>0.0</td>\n",
       "      <td>0.0</td>\n",
       "      <td>0.0</td>\n",
       "      <td>0.0</td>\n",
       "      <td>1.0</td>\n",
       "      <td>0.0</td>\n",
       "      <td>0.0</td>\n",
       "      <td>0.0</td>\n",
       "      <td>0.0</td>\n",
       "      <td>...</td>\n",
       "      <td>1.0</td>\n",
       "      <td>0.0</td>\n",
       "      <td>0.0</td>\n",
       "      <td>0.0</td>\n",
       "      <td>0.0</td>\n",
       "      <td>1.0</td>\n",
       "      <td>4.0</td>\n",
       "      <td>30.0</td>\n",
       "      <td>2013.0</td>\n",
       "      <td>2019.0</td>\n",
       "    </tr>\n",
       "    <tr>\n",
       "      <th>1</th>\n",
       "      <td>0.0</td>\n",
       "      <td>0.0</td>\n",
       "      <td>0.0</td>\n",
       "      <td>0.0</td>\n",
       "      <td>0.0</td>\n",
       "      <td>1.0</td>\n",
       "      <td>0.0</td>\n",
       "      <td>0.0</td>\n",
       "      <td>0.0</td>\n",
       "      <td>0.0</td>\n",
       "      <td>...</td>\n",
       "      <td>1.0</td>\n",
       "      <td>0.0</td>\n",
       "      <td>0.0</td>\n",
       "      <td>0.0</td>\n",
       "      <td>1.0</td>\n",
       "      <td>0.0</td>\n",
       "      <td>4.0</td>\n",
       "      <td>65.0</td>\n",
       "      <td>2007.0</td>\n",
       "      <td>2019.0</td>\n",
       "    </tr>\n",
       "    <tr>\n",
       "      <th>2</th>\n",
       "      <td>0.0</td>\n",
       "      <td>0.0</td>\n",
       "      <td>0.0</td>\n",
       "      <td>0.0</td>\n",
       "      <td>0.0</td>\n",
       "      <td>1.0</td>\n",
       "      <td>0.0</td>\n",
       "      <td>0.0</td>\n",
       "      <td>0.0</td>\n",
       "      <td>0.0</td>\n",
       "      <td>...</td>\n",
       "      <td>0.0</td>\n",
       "      <td>0.0</td>\n",
       "      <td>1.0</td>\n",
       "      <td>0.0</td>\n",
       "      <td>0.0</td>\n",
       "      <td>1.0</td>\n",
       "      <td>3.0</td>\n",
       "      <td>35.0</td>\n",
       "      <td>1985.0</td>\n",
       "      <td>2018.0</td>\n",
       "    </tr>\n",
       "    <tr>\n",
       "      <th>3</th>\n",
       "      <td>0.0</td>\n",
       "      <td>0.0</td>\n",
       "      <td>0.0</td>\n",
       "      <td>0.0</td>\n",
       "      <td>0.0</td>\n",
       "      <td>1.0</td>\n",
       "      <td>0.0</td>\n",
       "      <td>0.0</td>\n",
       "      <td>0.0</td>\n",
       "      <td>0.0</td>\n",
       "      <td>...</td>\n",
       "      <td>0.0</td>\n",
       "      <td>0.0</td>\n",
       "      <td>1.0</td>\n",
       "      <td>0.0</td>\n",
       "      <td>0.0</td>\n",
       "      <td>1.0</td>\n",
       "      <td>4.0</td>\n",
       "      <td>20.0</td>\n",
       "      <td>1982.0</td>\n",
       "      <td>2018.0</td>\n",
       "    </tr>\n",
       "    <tr>\n",
       "      <th>4</th>\n",
       "      <td>0.0</td>\n",
       "      <td>0.0</td>\n",
       "      <td>0.0</td>\n",
       "      <td>0.0</td>\n",
       "      <td>0.0</td>\n",
       "      <td>1.0</td>\n",
       "      <td>0.0</td>\n",
       "      <td>0.0</td>\n",
       "      <td>0.0</td>\n",
       "      <td>0.0</td>\n",
       "      <td>...</td>\n",
       "      <td>0.0</td>\n",
       "      <td>0.0</td>\n",
       "      <td>1.0</td>\n",
       "      <td>0.0</td>\n",
       "      <td>0.0</td>\n",
       "      <td>1.0</td>\n",
       "      <td>3.0</td>\n",
       "      <td>30.0</td>\n",
       "      <td>1985.0</td>\n",
       "      <td>2018.0</td>\n",
       "    </tr>\n",
       "    <tr>\n",
       "      <th>...</th>\n",
       "      <td>...</td>\n",
       "      <td>...</td>\n",
       "      <td>...</td>\n",
       "      <td>...</td>\n",
       "      <td>...</td>\n",
       "      <td>...</td>\n",
       "      <td>...</td>\n",
       "      <td>...</td>\n",
       "      <td>...</td>\n",
       "      <td>...</td>\n",
       "      <td>...</td>\n",
       "      <td>...</td>\n",
       "      <td>...</td>\n",
       "      <td>...</td>\n",
       "      <td>...</td>\n",
       "      <td>...</td>\n",
       "      <td>...</td>\n",
       "      <td>...</td>\n",
       "      <td>...</td>\n",
       "      <td>...</td>\n",
       "      <td>...</td>\n",
       "    </tr>\n",
       "    <tr>\n",
       "      <th>65337</th>\n",
       "      <td>0.0</td>\n",
       "      <td>0.0</td>\n",
       "      <td>0.0</td>\n",
       "      <td>0.0</td>\n",
       "      <td>0.0</td>\n",
       "      <td>0.0</td>\n",
       "      <td>0.0</td>\n",
       "      <td>0.0</td>\n",
       "      <td>0.0</td>\n",
       "      <td>0.0</td>\n",
       "      <td>...</td>\n",
       "      <td>1.0</td>\n",
       "      <td>0.0</td>\n",
       "      <td>0.0</td>\n",
       "      <td>0.0</td>\n",
       "      <td>0.0</td>\n",
       "      <td>1.0</td>\n",
       "      <td>4.0</td>\n",
       "      <td>20.0</td>\n",
       "      <td>1987.0</td>\n",
       "      <td>2014.0</td>\n",
       "    </tr>\n",
       "    <tr>\n",
       "      <th>65338</th>\n",
       "      <td>0.0</td>\n",
       "      <td>0.0</td>\n",
       "      <td>0.0</td>\n",
       "      <td>0.0</td>\n",
       "      <td>0.0</td>\n",
       "      <td>0.0</td>\n",
       "      <td>0.0</td>\n",
       "      <td>0.0</td>\n",
       "      <td>0.0</td>\n",
       "      <td>0.0</td>\n",
       "      <td>...</td>\n",
       "      <td>1.0</td>\n",
       "      <td>0.0</td>\n",
       "      <td>0.0</td>\n",
       "      <td>0.0</td>\n",
       "      <td>0.0</td>\n",
       "      <td>1.0</td>\n",
       "      <td>14.0</td>\n",
       "      <td>40.0</td>\n",
       "      <td>1989.0</td>\n",
       "      <td>2017.0</td>\n",
       "    </tr>\n",
       "    <tr>\n",
       "      <th>65339</th>\n",
       "      <td>0.0</td>\n",
       "      <td>0.0</td>\n",
       "      <td>0.0</td>\n",
       "      <td>0.0</td>\n",
       "      <td>0.0</td>\n",
       "      <td>0.0</td>\n",
       "      <td>0.0</td>\n",
       "      <td>0.0</td>\n",
       "      <td>0.0</td>\n",
       "      <td>0.0</td>\n",
       "      <td>...</td>\n",
       "      <td>1.0</td>\n",
       "      <td>0.0</td>\n",
       "      <td>0.0</td>\n",
       "      <td>0.0</td>\n",
       "      <td>0.0</td>\n",
       "      <td>1.0</td>\n",
       "      <td>30.0</td>\n",
       "      <td>80.0</td>\n",
       "      <td>2007.0</td>\n",
       "      <td>2013.0</td>\n",
       "    </tr>\n",
       "    <tr>\n",
       "      <th>65340</th>\n",
       "      <td>0.0</td>\n",
       "      <td>0.0</td>\n",
       "      <td>1.0</td>\n",
       "      <td>0.0</td>\n",
       "      <td>0.0</td>\n",
       "      <td>0.0</td>\n",
       "      <td>0.0</td>\n",
       "      <td>0.0</td>\n",
       "      <td>0.0</td>\n",
       "      <td>0.0</td>\n",
       "      <td>...</td>\n",
       "      <td>0.0</td>\n",
       "      <td>0.0</td>\n",
       "      <td>1.0</td>\n",
       "      <td>0.0</td>\n",
       "      <td>0.0</td>\n",
       "      <td>1.0</td>\n",
       "      <td>6.0</td>\n",
       "      <td>60.0</td>\n",
       "      <td>1987.0</td>\n",
       "      <td>2013.0</td>\n",
       "    </tr>\n",
       "    <tr>\n",
       "      <th>65341</th>\n",
       "      <td>0.0</td>\n",
       "      <td>0.0</td>\n",
       "      <td>0.0</td>\n",
       "      <td>0.0</td>\n",
       "      <td>0.0</td>\n",
       "      <td>0.0</td>\n",
       "      <td>0.0</td>\n",
       "      <td>0.0</td>\n",
       "      <td>0.0</td>\n",
       "      <td>0.0</td>\n",
       "      <td>...</td>\n",
       "      <td>1.0</td>\n",
       "      <td>0.0</td>\n",
       "      <td>0.0</td>\n",
       "      <td>0.0</td>\n",
       "      <td>1.0</td>\n",
       "      <td>0.0</td>\n",
       "      <td>21.0</td>\n",
       "      <td>50.0</td>\n",
       "      <td>1968.0</td>\n",
       "      <td>2013.0</td>\n",
       "    </tr>\n",
       "  </tbody>\n",
       "</table>\n",
       "<p>65342 rows × 95 columns</p>\n",
       "</div>"
      ],
      "text/plain": [
       "       onehotencoder__x0_Adachi Ward  onehotencoder__x0_Akiruno City  \\\n",
       "0                                0.0                             0.0   \n",
       "1                                0.0                             0.0   \n",
       "2                                0.0                             0.0   \n",
       "3                                0.0                             0.0   \n",
       "4                                0.0                             0.0   \n",
       "...                              ...                             ...   \n",
       "65337                            0.0                             0.0   \n",
       "65338                            0.0                             0.0   \n",
       "65339                            0.0                             0.0   \n",
       "65340                            0.0                             0.0   \n",
       "65341                            0.0                             0.0   \n",
       "\n",
       "       onehotencoder__x0_Akishima City  onehotencoder__x0_Arakawa Ward  \\\n",
       "0                                  0.0                             0.0   \n",
       "1                                  0.0                             0.0   \n",
       "2                                  0.0                             0.0   \n",
       "3                                  0.0                             0.0   \n",
       "4                                  0.0                             0.0   \n",
       "...                                ...                             ...   \n",
       "65337                              0.0                             0.0   \n",
       "65338                              0.0                             0.0   \n",
       "65339                              0.0                             0.0   \n",
       "65340                              1.0                             0.0   \n",
       "65341                              0.0                             0.0   \n",
       "\n",
       "       onehotencoder__x0_Bunkyo Ward  onehotencoder__x0_Chiyoda Ward  \\\n",
       "0                                0.0                             1.0   \n",
       "1                                0.0                             1.0   \n",
       "2                                0.0                             1.0   \n",
       "3                                0.0                             1.0   \n",
       "4                                0.0                             1.0   \n",
       "...                              ...                             ...   \n",
       "65337                            0.0                             0.0   \n",
       "65338                            0.0                             0.0   \n",
       "65339                            0.0                             0.0   \n",
       "65340                            0.0                             0.0   \n",
       "65341                            0.0                             0.0   \n",
       "\n",
       "       onehotencoder__x0_Chofu City  onehotencoder__x0_Chuo Ward  \\\n",
       "0                               0.0                          0.0   \n",
       "1                               0.0                          0.0   \n",
       "2                               0.0                          0.0   \n",
       "3                               0.0                          0.0   \n",
       "4                               0.0                          0.0   \n",
       "...                             ...                          ...   \n",
       "65337                           0.0                          0.0   \n",
       "65338                           0.0                          0.0   \n",
       "65339                           0.0                          0.0   \n",
       "65340                           0.0                          0.0   \n",
       "65341                           0.0                          0.0   \n",
       "\n",
       "       onehotencoder__x0_Edogawa Ward  onehotencoder__x0_Fuchu City  ...  \\\n",
       "0                                 0.0                           0.0  ...   \n",
       "1                                 0.0                           0.0  ...   \n",
       "2                                 0.0                           0.0  ...   \n",
       "3                                 0.0                           0.0  ...   \n",
       "4                                 0.0                           0.0  ...   \n",
       "...                               ...                           ...  ...   \n",
       "65337                             0.0                           0.0  ...   \n",
       "65338                             0.0                           0.0  ...   \n",
       "65339                             0.0                           0.0  ...   \n",
       "65340                             0.0                           0.0  ...   \n",
       "65341                             0.0                           0.0  ...   \n",
       "\n",
       "       onehotencoder__x2_RC  onehotencoder__x2_S  onehotencoder__x2_SRC  \\\n",
       "0                       1.0                  0.0                    0.0   \n",
       "1                       1.0                  0.0                    0.0   \n",
       "2                       0.0                  0.0                    1.0   \n",
       "3                       0.0                  0.0                    1.0   \n",
       "4                       0.0                  0.0                    1.0   \n",
       "...                     ...                  ...                    ...   \n",
       "65337                   1.0                  0.0                    0.0   \n",
       "65338                   1.0                  0.0                    0.0   \n",
       "65339                   1.0                  0.0                    0.0   \n",
       "65340                   0.0                  0.0                    1.0   \n",
       "65341                   1.0                  0.0                    0.0   \n",
       "\n",
       "       onehotencoder__x2_W  onehotencoder__x3_Done  onehotencoder__x3_Not yet  \\\n",
       "0                      0.0                     0.0                        1.0   \n",
       "1                      0.0                     1.0                        0.0   \n",
       "2                      0.0                     0.0                        1.0   \n",
       "3                      0.0                     0.0                        1.0   \n",
       "4                      0.0                     0.0                        1.0   \n",
       "...                    ...                     ...                        ...   \n",
       "65337                  0.0                     0.0                        1.0   \n",
       "65338                  0.0                     0.0                        1.0   \n",
       "65339                  0.0                     0.0                        1.0   \n",
       "65340                  0.0                     0.0                        1.0   \n",
       "65341                  0.0                     1.0                        0.0   \n",
       "\n",
       "       MinTimeToNearestStation  Area  BuildingYear    Year  \n",
       "0                          4.0  30.0        2013.0  2019.0  \n",
       "1                          4.0  65.0        2007.0  2019.0  \n",
       "2                          3.0  35.0        1985.0  2018.0  \n",
       "3                          4.0  20.0        1982.0  2018.0  \n",
       "4                          3.0  30.0        1985.0  2018.0  \n",
       "...                        ...   ...           ...     ...  \n",
       "65337                      4.0  20.0        1987.0  2014.0  \n",
       "65338                     14.0  40.0        1989.0  2017.0  \n",
       "65339                     30.0  80.0        2007.0  2013.0  \n",
       "65340                      6.0  60.0        1987.0  2013.0  \n",
       "65341                     21.0  50.0        1968.0  2013.0  \n",
       "\n",
       "[65342 rows x 95 columns]"
      ]
     },
     "execution_count": 8,
     "metadata": {},
     "output_type": "execute_result"
    }
   ],
   "source": [
    "#input dataframe after transformation\n",
    "import warnings\n",
    "warnings.filterwarnings('ignore')\n",
    "pd.DataFrame(X, columns=ohe.get_feature_names())"
   ]
  },
  {
   "cell_type": "code",
   "execution_count": 9,
   "id": "3200a243",
   "metadata": {},
   "outputs": [],
   "source": [
    "#output set\n",
    "y = df['TradePrice'] "
   ]
  },
  {
   "cell_type": "code",
   "execution_count": 10,
   "id": "ed3d7979",
   "metadata": {},
   "outputs": [],
   "source": [
    "#Spliting the data set into test,training and hold out test data set\n",
    "from sklearn.model_selection import train_test_split"
   ]
  },
  {
   "cell_type": "code",
   "execution_count": 11,
   "id": "05161add",
   "metadata": {},
   "outputs": [],
   "source": [
    "#train set is 70% , 15% is for test set and remaining 15% is for hold out test set\n",
    "X_train, X_test, y_train, y_test = train_test_split(X, y, test_size=0.3, random_state=42)"
   ]
  },
  {
   "cell_type": "code",
   "execution_count": 12,
   "id": "740f4142",
   "metadata": {},
   "outputs": [],
   "source": [
    "X_hold, X_test, y_hold, y_test = train_test_split(X_test, y_test, test_size=0.5, random_state=42)"
   ]
  },
  {
   "cell_type": "code",
   "execution_count": 13,
   "id": "6d656346",
   "metadata": {},
   "outputs": [],
   "source": [
    "#Applying RandomForest \n",
    "from sklearn.ensemble import RandomForestRegressor\n",
    "model_rf = RandomForestRegressor()"
   ]
  },
  {
   "cell_type": "code",
   "execution_count": 14,
   "id": "aa819ac9",
   "metadata": {},
   "outputs": [
    {
     "data": {
      "text/plain": [
       "RandomForestRegressor()"
      ]
     },
     "execution_count": 14,
     "metadata": {},
     "output_type": "execute_result"
    }
   ],
   "source": [
    "model_rf.fit(X_train,y_train)"
   ]
  },
  {
   "cell_type": "code",
   "execution_count": 15,
   "id": "50c922b6",
   "metadata": {},
   "outputs": [],
   "source": [
    "#Calculating predictions\n",
    "y_pred = model_rf.predict(X_test)"
   ]
  },
  {
   "cell_type": "code",
   "execution_count": 16,
   "id": "4d083690",
   "metadata": {},
   "outputs": [],
   "source": [
    "from sklearn.metrics import mean_absolute_percentage_error"
   ]
  },
  {
   "cell_type": "code",
   "execution_count": 17,
   "id": "c8fad717",
   "metadata": {},
   "outputs": [
    {
     "data": {
      "text/plain": [
       "0.18993835813872595"
      ]
     },
     "execution_count": 17,
     "metadata": {},
     "output_type": "execute_result"
    }
   ],
   "source": [
    "mean_absolute_percentage_error(y_test, y_pred)"
   ]
  },
  {
   "cell_type": "code",
   "execution_count": 18,
   "id": "336b2bac",
   "metadata": {},
   "outputs": [],
   "source": [
    "#Applying Decision Tree Regressor\n",
    "from sklearn.tree import DecisionTreeRegressor\n",
    "model_tree = DecisionTreeRegressor()"
   ]
  },
  {
   "cell_type": "code",
   "execution_count": 19,
   "id": "7abccd98",
   "metadata": {},
   "outputs": [
    {
     "data": {
      "text/plain": [
       "DecisionTreeRegressor()"
      ]
     },
     "execution_count": 19,
     "metadata": {},
     "output_type": "execute_result"
    }
   ],
   "source": [
    "model_tree.fit(X_train,y_train)"
   ]
  },
  {
   "cell_type": "code",
   "execution_count": 20,
   "id": "0600357e",
   "metadata": {},
   "outputs": [],
   "source": [
    "y_pred_tree = model_tree.predict(X_test)"
   ]
  },
  {
   "cell_type": "code",
   "execution_count": 21,
   "id": "8461e2a9",
   "metadata": {},
   "outputs": [
    {
     "data": {
      "text/plain": [
       "0.24061650332400375"
      ]
     },
     "execution_count": 21,
     "metadata": {},
     "output_type": "execute_result"
    }
   ],
   "source": [
    "mean_absolute_percentage_error(y_test,y_pred_tree)"
   ]
  },
  {
   "cell_type": "code",
   "execution_count": 22,
   "id": "5eb63afa",
   "metadata": {},
   "outputs": [],
   "source": [
    "#Scaling the data to apply Support Vector Regressor\n",
    "from sklearn.preprocessing import StandardScaler\n",
    "scaler = StandardScaler()"
   ]
  },
  {
   "cell_type": "code",
   "execution_count": 23,
   "id": "dcfd07e1",
   "metadata": {},
   "outputs": [],
   "source": [
    "scaler.fit(X_train)\n",
    "X_train_scaled = scaler.fit_transform(X_train) \n",
    "X_test_scaled = scaler.transform(X_test) "
   ]
  },
  {
   "cell_type": "code",
   "execution_count": 24,
   "id": "1d825670",
   "metadata": {},
   "outputs": [],
   "source": [
    "#Applying Support Vector Regressor\n",
    "from sklearn.svm import SVR\n",
    "model_SVR = SVR()"
   ]
  },
  {
   "cell_type": "code",
   "execution_count": 25,
   "id": "22fb0b58",
   "metadata": {},
   "outputs": [
    {
     "data": {
      "text/plain": [
       "SVR()"
      ]
     },
     "execution_count": 25,
     "metadata": {},
     "output_type": "execute_result"
    }
   ],
   "source": [
    "model_SVR.fit(X_train_scaled,y_train)"
   ]
  },
  {
   "cell_type": "code",
   "execution_count": 26,
   "id": "acc14cce",
   "metadata": {},
   "outputs": [],
   "source": [
    "y_pred_svr = model_SVR.predict(X_test_scaled)"
   ]
  },
  {
   "cell_type": "code",
   "execution_count": 27,
   "id": "c1c00fe9",
   "metadata": {},
   "outputs": [
    {
     "data": {
      "text/plain": [
       "0.6357022964026675"
      ]
     },
     "execution_count": 27,
     "metadata": {},
     "output_type": "execute_result"
    }
   ],
   "source": [
    "mean_absolute_percentage_error(y_test,y_pred_svr)"
   ]
  },
  {
   "cell_type": "code",
   "execution_count": 28,
   "id": "f91f5f0e",
   "metadata": {},
   "outputs": [],
   "source": [
    "#Applying KNN\n",
    "from sklearn.neighbors import KNeighborsRegressor\n",
    "model_knn = KNeighborsRegressor()"
   ]
  },
  {
   "cell_type": "code",
   "execution_count": 29,
   "id": "4530f8b1",
   "metadata": {},
   "outputs": [
    {
     "data": {
      "text/plain": [
       "KNeighborsRegressor()"
      ]
     },
     "execution_count": 29,
     "metadata": {},
     "output_type": "execute_result"
    }
   ],
   "source": [
    "model_knn.fit(X_train_scaled,y_train)"
   ]
  },
  {
   "cell_type": "code",
   "execution_count": 30,
   "id": "bf96b429",
   "metadata": {},
   "outputs": [],
   "source": [
    "y_pred_knn = model_knn.predict(X_test_scaled) "
   ]
  },
  {
   "cell_type": "code",
   "execution_count": 31,
   "id": "b55ee9f1",
   "metadata": {},
   "outputs": [
    {
     "data": {
      "text/plain": [
       "0.22926046826854043"
      ]
     },
     "execution_count": 31,
     "metadata": {},
     "output_type": "execute_result"
    }
   ],
   "source": [
    "mean_absolute_percentage_error(y_test,y_pred_knn)"
   ]
  },
  {
   "cell_type": "code",
   "execution_count": 32,
   "id": "f2229d81",
   "metadata": {},
   "outputs": [],
   "source": [
    "#Comparing the performance of these 4 algorithms\n",
    "#1. Random Forrest         - 18.9% error\n",
    "#2. Decision Trees         - 24.4% error\n",
    "#3. Support Vector         - 63.5% error\n",
    "#4. KNN                    - 22.9% error\n",
    "#So the best performance is from Random Forest"
   ]
  },
  {
   "cell_type": "code",
   "execution_count": 33,
   "id": "0da6374e",
   "metadata": {},
   "outputs": [],
   "source": [
    "#calculating performance on hold out test set for random forest"
   ]
  },
  {
   "cell_type": "code",
   "execution_count": 34,
   "id": "cb22bfc0",
   "metadata": {},
   "outputs": [],
   "source": [
    "y_pred_hold = model_rf.predict(X_hold)"
   ]
  },
  {
   "cell_type": "code",
   "execution_count": 35,
   "id": "730079cb",
   "metadata": {},
   "outputs": [
    {
     "data": {
      "text/plain": [
       "0.20106326117063122"
      ]
     },
     "execution_count": 35,
     "metadata": {},
     "output_type": "execute_result"
    }
   ],
   "source": [
    "mean_absolute_percentage_error(y_hold,y_pred_hold)"
   ]
  },
  {
   "cell_type": "code",
   "execution_count": 36,
   "id": "1216cd56",
   "metadata": {},
   "outputs": [],
   "source": [
    "#Final performance metric ( Mean absolute percentage error ) = 20%"
   ]
  },
  {
   "cell_type": "code",
   "execution_count": 37,
   "id": "6b28c4f6",
   "metadata": {},
   "outputs": [],
   "source": [
    "#Creating the final prediction model\n",
    "model_final = RandomForestRegressor()"
   ]
  },
  {
   "cell_type": "code",
   "execution_count": 38,
   "id": "a02978e0",
   "metadata": {},
   "outputs": [
    {
     "data": {
      "text/plain": [
       "RandomForestRegressor()"
      ]
     },
     "execution_count": 38,
     "metadata": {},
     "output_type": "execute_result"
    }
   ],
   "source": [
    "#training the final model on entire dataset\n",
    "model_final.fit(X,y)"
   ]
  },
  {
   "cell_type": "code",
   "execution_count": 39,
   "id": "fa2cdff1",
   "metadata": {},
   "outputs": [
    {
     "data": {
      "text/plain": [
       "['Prediction_model.pkl.xz']"
      ]
     },
     "execution_count": 39,
     "metadata": {},
     "output_type": "execute_result"
    }
   ],
   "source": [
    "# Save the final model as a pickle in a file\n",
    "import joblib\n",
    "joblib.dump(model_final, 'Prediction_model.pkl.xz')"
   ]
  },
  {
   "cell_type": "code",
   "execution_count": 40,
   "id": "d6f6c496",
   "metadata": {},
   "outputs": [
    {
     "data": {
      "text/plain": [
       "['OneHotEncoder.pkl']"
      ]
     },
     "execution_count": 40,
     "metadata": {},
     "output_type": "execute_result"
    }
   ],
   "source": [
    "#saving the onehot encoder\n",
    "joblib.dump(ohe,'OneHotEncoder.pkl')"
   ]
  }
 ],
 "metadata": {
  "kernelspec": {
   "display_name": "Python 3 (ipykernel)",
   "language": "python",
   "name": "python3"
  },
  "language_info": {
   "codemirror_mode": {
    "name": "ipython",
    "version": 3
   },
   "file_extension": ".py",
   "mimetype": "text/x-python",
   "name": "python",
   "nbconvert_exporter": "python",
   "pygments_lexer": "ipython3",
   "version": "3.9.12"
  }
 },
 "nbformat": 4,
 "nbformat_minor": 5
}
